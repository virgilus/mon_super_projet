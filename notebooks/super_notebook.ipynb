{
 "cells": [
  {
   "cell_type": "markdown",
   "id": "f89e6053",
   "metadata": {},
   "source": [
    "# \"Countries.csv\" Exploration"
   ]
  },
  {
   "cell_type": "code",
   "execution_count": 1,
   "id": "5c517c0b-49ee-4a02-9142-f1d326dc2dc6",
   "metadata": {},
   "outputs": [],
   "source": [
    "import pandas as pd\n",
    "import os\n",
    "\n",
    "RAW_DATA_PATH = '../data/raw/'\n",
    "PROCESSED_DATA_PATH = '../data/processed/'\n",
    "COUNTRIES_FILENAME = 'countries.csv'\n",
    "\n",
    "d = {'country': 'string',\n",
    "     'region': 'category',\n",
    "     'population': 'int32',\n",
    "     'area (km²)': 'int32',\n",
    "     'coastline (coast/area ratio)': 'float32',\n",
    "     'net migration': 'float32',}\n",
    "\n",
    "df = pd.read_csv(os.path.join(RAW_DATA_PATH, COUNTRIES_FILENAME),\n",
    "                 sep=';',\n",
    "                 skiprows=3,\n",
    "                 quotechar='#',\n",
    "                 decimal=',',\n",
    "                 usecols=d.keys(),\n",
    "                 dtype=d,\n",
    "                 #nrows=10000,\n",
    "                )\n"
   ]
  },
  {
   "cell_type": "markdown",
   "id": "5a42b6ce",
   "metadata": {},
   "source": [
    "### Density computation"
   ]
  },
  {
   "cell_type": "code",
   "execution_count": 2,
   "id": "c038d151",
   "metadata": {},
   "outputs": [],
   "source": [
    "df['density (km²)'] = df['population'] / df['area (km²)']"
   ]
  },
  {
   "cell_type": "markdown",
   "id": "af4d2cfd-da8d-4189-abea-93b418d97768",
   "metadata": {},
   "source": [
    "### Export to a clean CSV"
   ]
  },
  {
   "cell_type": "code",
   "execution_count": 5,
   "id": "072c5c0b",
   "metadata": {},
   "outputs": [],
   "source": [
    "def rename_processed_data(filename, str_to_replace='.', extension='_processed.'):\n",
    "    return filename.replace(str_to_replace, extension)"
   ]
  },
  {
   "cell_type": "code",
   "execution_count": 6,
   "id": "15a439a8",
   "metadata": {},
   "outputs": [],
   "source": [
    "df.to_csv(os.path.join(PROCESSED_DATA_PATH, rename_processed_data(COUNTRIES_FILENAME)))"
   ]
  }
 ],
 "metadata": {
  "kernelspec": {
   "display_name": "Python 3 (ipykernel)",
   "language": "python",
   "name": "python3"
  },
  "language_info": {
   "codemirror_mode": {
    "name": "ipython",
    "version": 3
   },
   "file_extension": ".py",
   "mimetype": "text/x-python",
   "name": "python",
   "nbconvert_exporter": "python",
   "pygments_lexer": "ipython3",
   "version": "3.12.0"
  }
 },
 "nbformat": 4,
 "nbformat_minor": 5
}
